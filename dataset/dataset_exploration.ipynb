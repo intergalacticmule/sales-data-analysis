{
 "cells": [
  {
   "cell_type": "markdown",
   "metadata": {},
   "source": [
    "# <div align='center'>Dataset Information and Exploration</div>\n"
   ]
  },
  {
   "cell_type": "markdown",
   "metadata": {},
   "source": [
    "## About Dataset"
   ]
  },
  {
   "cell_type": "markdown",
   "metadata": {},
   "source": [
    "### Sales Data Description\n",
    "This dataset represents synthetic sales data generated for practice purposes only. It is not real-time or based on actual business operations, and should be used solely for educational or testing purposes. The dataset contains information that simulates sales transactions across different products, regions, and customers. Each row represents an individual sale event with various details associated with it."
   ]
  },
  {
   "cell_type": "markdown",
   "metadata": {},
   "source": [
    "\n",
    "### Columns in the Dataset\n",
    "\n",
    "- Product_ID: Unique identifier for each product sold. Randomly generated for practice purposes.\n",
    "\n",
    "- Sale_Date: The date when the sale occurred. Randomly selected from the year 2023.\n",
    "\n",
    "- Sales_Rep: The sales representative responsible for the transaction. The dataset includes five random sales representatives (Alice, Bob, Charlie, David, Eve).\n",
    "\n",
    "- Region: The region where the sale took place. The possible regions are North, South, East, and West.\n",
    "\n",
    "- Sales_Amount: The total sales amount for the transaction, including discounts if any. Values range from 100 to 10,000 (in currency units).\n",
    "\n",
    "- Quantity_Sold: The number of units sold in that transaction, randomly generated between 1 and 50.\n",
    "\n",
    "- Product_Category: The category of the product sold. Categories include Electronics, Furniture, Clothing, and Food.\n",
    "\n",
    "- Unit_Cost: The cost per unit of the product sold, randomly generated between 50 and 5000 currency units.\n",
    "\n",
    "- Unit_Price: The selling price per unit of the product, calculated to be higher than the unit cost.\n",
    "\n",
    "- Customer_Type: Indicates whether the customer is a New or Returning customer.\n",
    "\n",
    "- Discount: The discount applied to the sale, randomly chosen between 0% and 30%.\n",
    "\n",
    "- Payment_Method: The method of payment used by the customer (e.g., Credit Card, Cash, Bank Transfer).\n",
    "\n",
    "- Sales_Channel: The channel through which the sale occurred. Either Online or Retail.\n",
    "\n",
    "- Region_and_Sales_Rep: A combined column that pairs the region and sales representative for easier tracking.\n"
   ]
  },
  {
   "cell_type": "markdown",
   "metadata": {},
   "source": [
    "### Disclaimer\n",
    "\n",
    "Please note: This data was randomly generated and is intended solely for practice, learning, or testing. It does not reflect real-world sales, customers, or businesses, and should not be considered reliable for any real-time analysis or decision-making.\n"
   ]
  },
  {
   "cell_type": "markdown",
   "metadata": {},
   "source": [
    "## Dataset Exploration"
   ]
  },
  {
   "cell_type": "markdown",
   "metadata": {},
   "source": [
    "### Import necessary libraries:"
   ]
  },
  {
   "cell_type": "code",
   "execution_count": 124,
   "metadata": {},
   "outputs": [],
   "source": [
    "import os\n",
    "from zipfile import ZipFile\n",
    "import pandas\n"
   ]
  },
  {
   "cell_type": "markdown",
   "metadata": {},
   "source": [
    "### Download and unzip data file:"
   ]
  },
  {
   "cell_type": "code",
   "execution_count": 125,
   "metadata": {},
   "outputs": [
    {
     "name": "stderr",
     "output_type": "stream",
     "text": [
      "  % Total    % Received % Xferd  Average Speed   Time    Time     Time  Current\n",
      "                                 Dload  Upload   Total   Spent    Left  Speed\n",
      "  0     0    0     0    0     0      0      0 --:--:-- --:--:-- --:--:--     0\n",
      "100 27634  100 27634    0     0  41161      0 --:--:-- --:--:-- --:--:-- 41161\n"
     ]
    }
   ],
   "source": [
    "zip_dir = \"/home/intergalacticmule/repos/sales-data-analysis/dataset/\"\n",
    "zip_name = \"sales_data.zip\"\n",
    "os.system(f\"curl -L -o {zip_dir + zip_name} https://www.kaggle.com/api/v1/datasets/download/vinothkannaece/sales-dataset/\")\n",
    "\n",
    "with ZipFile(zip_dir + zip_name, 'r') as zip_file:\n",
    "    zip_file.extractall(zip_dir)"
   ]
  },
  {
   "cell_type": "markdown",
   "metadata": {},
   "source": [
    "### Load the dataset:"
   ]
  },
  {
   "cell_type": "code",
   "execution_count": 126,
   "metadata": {},
   "outputs": [],
   "source": [
    "df = pandas.read_csv(zip_dir + zip_name.replace(\"zip\", \"csv\"))"
   ]
  },
  {
   "cell_type": "markdown",
   "metadata": {},
   "source": [
    "### Display dataframe head:"
   ]
  },
  {
   "cell_type": "code",
   "execution_count": 127,
   "metadata": {},
   "outputs": [
    {
     "data": {
      "text/html": [
       "<div>\n",
       "<style scoped>\n",
       "    .dataframe tbody tr th:only-of-type {\n",
       "        vertical-align: middle;\n",
       "    }\n",
       "\n",
       "    .dataframe tbody tr th {\n",
       "        vertical-align: top;\n",
       "    }\n",
       "\n",
       "    .dataframe thead th {\n",
       "        text-align: right;\n",
       "    }\n",
       "</style>\n",
       "<table border=\"1\" class=\"dataframe\">\n",
       "  <thead>\n",
       "    <tr style=\"text-align: right;\">\n",
       "      <th></th>\n",
       "      <th>Product_ID</th>\n",
       "      <th>Sale_Date</th>\n",
       "      <th>Sales_Rep</th>\n",
       "      <th>Region</th>\n",
       "      <th>Sales_Amount</th>\n",
       "      <th>Quantity_Sold</th>\n",
       "      <th>Product_Category</th>\n",
       "      <th>Unit_Cost</th>\n",
       "      <th>Unit_Price</th>\n",
       "      <th>Customer_Type</th>\n",
       "      <th>Discount</th>\n",
       "      <th>Payment_Method</th>\n",
       "      <th>Sales_Channel</th>\n",
       "      <th>Region_and_Sales_Rep</th>\n",
       "    </tr>\n",
       "  </thead>\n",
       "  <tbody>\n",
       "    <tr>\n",
       "      <th>0</th>\n",
       "      <td>1052</td>\n",
       "      <td>2023-02-03</td>\n",
       "      <td>Bob</td>\n",
       "      <td>North</td>\n",
       "      <td>5053.97</td>\n",
       "      <td>18</td>\n",
       "      <td>Furniture</td>\n",
       "      <td>152.75</td>\n",
       "      <td>267.22</td>\n",
       "      <td>Returning</td>\n",
       "      <td>0.09</td>\n",
       "      <td>Cash</td>\n",
       "      <td>Online</td>\n",
       "      <td>North-Bob</td>\n",
       "    </tr>\n",
       "    <tr>\n",
       "      <th>1</th>\n",
       "      <td>1093</td>\n",
       "      <td>2023-04-21</td>\n",
       "      <td>Bob</td>\n",
       "      <td>West</td>\n",
       "      <td>4384.02</td>\n",
       "      <td>17</td>\n",
       "      <td>Furniture</td>\n",
       "      <td>3816.39</td>\n",
       "      <td>4209.44</td>\n",
       "      <td>Returning</td>\n",
       "      <td>0.11</td>\n",
       "      <td>Cash</td>\n",
       "      <td>Retail</td>\n",
       "      <td>West-Bob</td>\n",
       "    </tr>\n",
       "    <tr>\n",
       "      <th>2</th>\n",
       "      <td>1015</td>\n",
       "      <td>2023-09-21</td>\n",
       "      <td>David</td>\n",
       "      <td>South</td>\n",
       "      <td>4631.23</td>\n",
       "      <td>30</td>\n",
       "      <td>Food</td>\n",
       "      <td>261.56</td>\n",
       "      <td>371.40</td>\n",
       "      <td>Returning</td>\n",
       "      <td>0.20</td>\n",
       "      <td>Bank Transfer</td>\n",
       "      <td>Retail</td>\n",
       "      <td>South-David</td>\n",
       "    </tr>\n",
       "    <tr>\n",
       "      <th>3</th>\n",
       "      <td>1072</td>\n",
       "      <td>2023-08-24</td>\n",
       "      <td>Bob</td>\n",
       "      <td>South</td>\n",
       "      <td>2167.94</td>\n",
       "      <td>39</td>\n",
       "      <td>Clothing</td>\n",
       "      <td>4330.03</td>\n",
       "      <td>4467.75</td>\n",
       "      <td>New</td>\n",
       "      <td>0.02</td>\n",
       "      <td>Credit Card</td>\n",
       "      <td>Retail</td>\n",
       "      <td>South-Bob</td>\n",
       "    </tr>\n",
       "    <tr>\n",
       "      <th>4</th>\n",
       "      <td>1061</td>\n",
       "      <td>2023-03-24</td>\n",
       "      <td>Charlie</td>\n",
       "      <td>East</td>\n",
       "      <td>3750.20</td>\n",
       "      <td>13</td>\n",
       "      <td>Electronics</td>\n",
       "      <td>637.37</td>\n",
       "      <td>692.71</td>\n",
       "      <td>New</td>\n",
       "      <td>0.08</td>\n",
       "      <td>Credit Card</td>\n",
       "      <td>Online</td>\n",
       "      <td>East-Charlie</td>\n",
       "    </tr>\n",
       "  </tbody>\n",
       "</table>\n",
       "</div>"
      ],
      "text/plain": [
       "   Product_ID   Sale_Date Sales_Rep Region  Sales_Amount  Quantity_Sold  \\\n",
       "0        1052  2023-02-03       Bob  North       5053.97             18   \n",
       "1        1093  2023-04-21       Bob   West       4384.02             17   \n",
       "2        1015  2023-09-21     David  South       4631.23             30   \n",
       "3        1072  2023-08-24       Bob  South       2167.94             39   \n",
       "4        1061  2023-03-24   Charlie   East       3750.20             13   \n",
       "\n",
       "  Product_Category  Unit_Cost  Unit_Price Customer_Type  Discount  \\\n",
       "0        Furniture     152.75      267.22     Returning      0.09   \n",
       "1        Furniture    3816.39     4209.44     Returning      0.11   \n",
       "2             Food     261.56      371.40     Returning      0.20   \n",
       "3         Clothing    4330.03     4467.75           New      0.02   \n",
       "4      Electronics     637.37      692.71           New      0.08   \n",
       "\n",
       "  Payment_Method Sales_Channel Region_and_Sales_Rep  \n",
       "0           Cash        Online            North-Bob  \n",
       "1           Cash        Retail             West-Bob  \n",
       "2  Bank Transfer        Retail          South-David  \n",
       "3    Credit Card        Retail            South-Bob  \n",
       "4    Credit Card        Online         East-Charlie  "
      ]
     },
     "execution_count": 127,
     "metadata": {},
     "output_type": "execute_result"
    }
   ],
   "source": [
    "df.head()"
   ]
  },
  {
   "cell_type": "markdown",
   "metadata": {},
   "source": [
    "### Display dataframe info:"
   ]
  },
  {
   "cell_type": "code",
   "execution_count": 128,
   "metadata": {},
   "outputs": [
    {
     "name": "stdout",
     "output_type": "stream",
     "text": [
      "<class 'pandas.core.frame.DataFrame'>\n",
      "RangeIndex: 1000 entries, 0 to 999\n",
      "Data columns (total 14 columns):\n",
      " #   Column                Non-Null Count  Dtype  \n",
      "---  ------                --------------  -----  \n",
      " 0   Product_ID            1000 non-null   int64  \n",
      " 1   Sale_Date             1000 non-null   object \n",
      " 2   Sales_Rep             1000 non-null   object \n",
      " 3   Region                1000 non-null   object \n",
      " 4   Sales_Amount          1000 non-null   float64\n",
      " 5   Quantity_Sold         1000 non-null   int64  \n",
      " 6   Product_Category      1000 non-null   object \n",
      " 7   Unit_Cost             1000 non-null   float64\n",
      " 8   Unit_Price            1000 non-null   float64\n",
      " 9   Customer_Type         1000 non-null   object \n",
      " 10  Discount              1000 non-null   float64\n",
      " 11  Payment_Method        1000 non-null   object \n",
      " 12  Sales_Channel         1000 non-null   object \n",
      " 13  Region_and_Sales_Rep  1000 non-null   object \n",
      "dtypes: float64(4), int64(2), object(8)\n",
      "memory usage: 109.5+ KB\n"
     ]
    }
   ],
   "source": [
    "df.info()"
   ]
  },
  {
   "cell_type": "markdown",
   "metadata": {},
   "source": [
    "### Check for missing values:"
   ]
  },
  {
   "cell_type": "code",
   "execution_count": 129,
   "metadata": {},
   "outputs": [
    {
     "name": "stdout",
     "output_type": "stream",
     "text": [
      "Missing values:\n",
      " Product_ID              0\n",
      "Sale_Date               0\n",
      "Sales_Rep               0\n",
      "Region                  0\n",
      "Sales_Amount            0\n",
      "Quantity_Sold           0\n",
      "Product_Category        0\n",
      "Unit_Cost               0\n",
      "Unit_Price              0\n",
      "Customer_Type           0\n",
      "Discount                0\n",
      "Payment_Method          0\n",
      "Sales_Channel           0\n",
      "Region_and_Sales_Rep    0\n",
      "dtype: int64\n"
     ]
    }
   ],
   "source": [
    "print(\"Missing values:\\n\", df.isnull().sum())"
   ]
  },
  {
   "cell_type": "markdown",
   "metadata": {},
   "source": [
    "### Check for duplicates"
   ]
  },
  {
   "cell_type": "code",
   "execution_count": 130,
   "metadata": {},
   "outputs": [
    {
     "data": {
      "text/plain": [
       "Product_ID              1000\n",
       "Sale_Date               1000\n",
       "Sales_Rep               1000\n",
       "Region                  1000\n",
       "Sales_Amount            1000\n",
       "Quantity_Sold           1000\n",
       "Product_Category        1000\n",
       "Unit_Cost               1000\n",
       "Unit_Price              1000\n",
       "Customer_Type           1000\n",
       "Discount                1000\n",
       "Payment_Method          1000\n",
       "Sales_Channel           1000\n",
       "Region_and_Sales_Rep    1000\n",
       "dtype: int64"
      ]
     },
     "execution_count": 130,
     "metadata": {},
     "output_type": "execute_result"
    }
   ],
   "source": [
    "df.count()"
   ]
  },
  {
   "cell_type": "code",
   "execution_count": 131,
   "metadata": {},
   "outputs": [
    {
     "data": {
      "text/plain": [
       "Product_ID              1000\n",
       "Sale_Date               1000\n",
       "Sales_Rep               1000\n",
       "Region                  1000\n",
       "Sales_Amount            1000\n",
       "Quantity_Sold           1000\n",
       "Product_Category        1000\n",
       "Unit_Cost               1000\n",
       "Unit_Price              1000\n",
       "Customer_Type           1000\n",
       "Discount                1000\n",
       "Payment_Method          1000\n",
       "Sales_Channel           1000\n",
       "Region_and_Sales_Rep    1000\n",
       "dtype: int64"
      ]
     },
     "execution_count": 131,
     "metadata": {},
     "output_type": "execute_result"
    }
   ],
   "source": [
    "df2 = df.drop_duplicates()\n",
    "df2.count()"
   ]
  },
  {
   "cell_type": "markdown",
   "metadata": {},
   "source": [
    "### Convert Sale_Date to datetime:"
   ]
  },
  {
   "cell_type": "code",
   "execution_count": 132,
   "metadata": {},
   "outputs": [],
   "source": [
    "df['Sale_Date'] = pandas.to_datetime(df['Sale_Date'])"
   ]
  },
  {
   "cell_type": "markdown",
   "metadata": {},
   "source": [
    "### View descriptive statistics:"
   ]
  },
  {
   "cell_type": "code",
   "execution_count": 133,
   "metadata": {},
   "outputs": [
    {
     "data": {
      "text/html": [
       "<div>\n",
       "<style scoped>\n",
       "    .dataframe tbody tr th:only-of-type {\n",
       "        vertical-align: middle;\n",
       "    }\n",
       "\n",
       "    .dataframe tbody tr th {\n",
       "        vertical-align: top;\n",
       "    }\n",
       "\n",
       "    .dataframe thead th {\n",
       "        text-align: right;\n",
       "    }\n",
       "</style>\n",
       "<table border=\"1\" class=\"dataframe\">\n",
       "  <thead>\n",
       "    <tr style=\"text-align: right;\">\n",
       "      <th></th>\n",
       "      <th>Product_ID</th>\n",
       "      <th>Sale_Date</th>\n",
       "      <th>Sales_Amount</th>\n",
       "      <th>Quantity_Sold</th>\n",
       "      <th>Unit_Cost</th>\n",
       "      <th>Unit_Price</th>\n",
       "      <th>Discount</th>\n",
       "    </tr>\n",
       "  </thead>\n",
       "  <tbody>\n",
       "    <tr>\n",
       "      <th>count</th>\n",
       "      <td>1000.000000</td>\n",
       "      <td>1000</td>\n",
       "      <td>1000.000000</td>\n",
       "      <td>1000.000000</td>\n",
       "      <td>1000.000000</td>\n",
       "      <td>1000.000000</td>\n",
       "      <td>1000.00000</td>\n",
       "    </tr>\n",
       "    <tr>\n",
       "      <th>mean</th>\n",
       "      <td>1050.128000</td>\n",
       "      <td>2023-07-02 17:42:43.199999744</td>\n",
       "      <td>5019.265230</td>\n",
       "      <td>25.355000</td>\n",
       "      <td>2475.304550</td>\n",
       "      <td>2728.440120</td>\n",
       "      <td>0.15239</td>\n",
       "    </tr>\n",
       "    <tr>\n",
       "      <th>min</th>\n",
       "      <td>1001.000000</td>\n",
       "      <td>2023-01-01 00:00:00</td>\n",
       "      <td>100.120000</td>\n",
       "      <td>1.000000</td>\n",
       "      <td>60.280000</td>\n",
       "      <td>167.120000</td>\n",
       "      <td>0.00000</td>\n",
       "    </tr>\n",
       "    <tr>\n",
       "      <th>25%</th>\n",
       "      <td>1024.000000</td>\n",
       "      <td>2023-03-30 00:00:00</td>\n",
       "      <td>2550.297500</td>\n",
       "      <td>13.000000</td>\n",
       "      <td>1238.380000</td>\n",
       "      <td>1509.085000</td>\n",
       "      <td>0.08000</td>\n",
       "    </tr>\n",
       "    <tr>\n",
       "      <th>50%</th>\n",
       "      <td>1051.000000</td>\n",
       "      <td>2023-06-30 12:00:00</td>\n",
       "      <td>5019.300000</td>\n",
       "      <td>25.000000</td>\n",
       "      <td>2467.235000</td>\n",
       "      <td>2696.400000</td>\n",
       "      <td>0.15000</td>\n",
       "    </tr>\n",
       "    <tr>\n",
       "      <th>75%</th>\n",
       "      <td>1075.000000</td>\n",
       "      <td>2023-10-12 00:00:00</td>\n",
       "      <td>7507.445000</td>\n",
       "      <td>38.000000</td>\n",
       "      <td>3702.865000</td>\n",
       "      <td>3957.970000</td>\n",
       "      <td>0.23000</td>\n",
       "    </tr>\n",
       "    <tr>\n",
       "      <th>max</th>\n",
       "      <td>1100.000000</td>\n",
       "      <td>2024-01-01 00:00:00</td>\n",
       "      <td>9989.040000</td>\n",
       "      <td>49.000000</td>\n",
       "      <td>4995.300000</td>\n",
       "      <td>5442.150000</td>\n",
       "      <td>0.30000</td>\n",
       "    </tr>\n",
       "    <tr>\n",
       "      <th>std</th>\n",
       "      <td>29.573505</td>\n",
       "      <td>NaN</td>\n",
       "      <td>2846.790126</td>\n",
       "      <td>14.159006</td>\n",
       "      <td>1417.872546</td>\n",
       "      <td>1419.399839</td>\n",
       "      <td>0.08720</td>\n",
       "    </tr>\n",
       "  </tbody>\n",
       "</table>\n",
       "</div>"
      ],
      "text/plain": [
       "        Product_ID                      Sale_Date  Sales_Amount  \\\n",
       "count  1000.000000                           1000   1000.000000   \n",
       "mean   1050.128000  2023-07-02 17:42:43.199999744   5019.265230   \n",
       "min    1001.000000            2023-01-01 00:00:00    100.120000   \n",
       "25%    1024.000000            2023-03-30 00:00:00   2550.297500   \n",
       "50%    1051.000000            2023-06-30 12:00:00   5019.300000   \n",
       "75%    1075.000000            2023-10-12 00:00:00   7507.445000   \n",
       "max    1100.000000            2024-01-01 00:00:00   9989.040000   \n",
       "std      29.573505                            NaN   2846.790126   \n",
       "\n",
       "       Quantity_Sold    Unit_Cost   Unit_Price    Discount  \n",
       "count    1000.000000  1000.000000  1000.000000  1000.00000  \n",
       "mean       25.355000  2475.304550  2728.440120     0.15239  \n",
       "min         1.000000    60.280000   167.120000     0.00000  \n",
       "25%        13.000000  1238.380000  1509.085000     0.08000  \n",
       "50%        25.000000  2467.235000  2696.400000     0.15000  \n",
       "75%        38.000000  3702.865000  3957.970000     0.23000  \n",
       "max        49.000000  4995.300000  5442.150000     0.30000  \n",
       "std        14.159006  1417.872546  1419.399839     0.08720  "
      ]
     },
     "execution_count": 133,
     "metadata": {},
     "output_type": "execute_result"
    }
   ],
   "source": [
    "df.describe()"
   ]
  },
  {
   "cell_type": "markdown",
   "metadata": {},
   "source": [
    "### Check if Product_ID has unique ranges for different Product_Categories:"
   ]
  },
  {
   "cell_type": "code",
   "execution_count": 134,
   "metadata": {},
   "outputs": [
    {
     "data": {
      "text/html": [
       "<div>\n",
       "<style scoped>\n",
       "    .dataframe tbody tr th:only-of-type {\n",
       "        vertical-align: middle;\n",
       "    }\n",
       "\n",
       "    .dataframe tbody tr th {\n",
       "        vertical-align: top;\n",
       "    }\n",
       "\n",
       "    .dataframe thead th {\n",
       "        text-align: right;\n",
       "    }\n",
       "</style>\n",
       "<table border=\"1\" class=\"dataframe\">\n",
       "  <thead>\n",
       "    <tr style=\"text-align: right;\">\n",
       "      <th></th>\n",
       "      <th>Product_ID</th>\n",
       "      <th>Sale_Date</th>\n",
       "      <th>Sales_Rep</th>\n",
       "      <th>Region</th>\n",
       "      <th>Sales_Amount</th>\n",
       "      <th>Quantity_Sold</th>\n",
       "      <th>Product_Category</th>\n",
       "      <th>Unit_Cost</th>\n",
       "      <th>Unit_Price</th>\n",
       "      <th>Customer_Type</th>\n",
       "      <th>Discount</th>\n",
       "      <th>Payment_Method</th>\n",
       "      <th>Sales_Channel</th>\n",
       "      <th>Region_and_Sales_Rep</th>\n",
       "    </tr>\n",
       "  </thead>\n",
       "  <tbody>\n",
       "    <tr>\n",
       "      <th>70</th>\n",
       "      <td>1050</td>\n",
       "      <td>2023-05-19</td>\n",
       "      <td>Charlie</td>\n",
       "      <td>East</td>\n",
       "      <td>9744.52</td>\n",
       "      <td>35</td>\n",
       "      <td>Clothing</td>\n",
       "      <td>2158.69</td>\n",
       "      <td>2384.38</td>\n",
       "      <td>Returning</td>\n",
       "      <td>0.09</td>\n",
       "      <td>Bank Transfer</td>\n",
       "      <td>Retail</td>\n",
       "      <td>East-Charlie</td>\n",
       "    </tr>\n",
       "    <tr>\n",
       "      <th>279</th>\n",
       "      <td>1050</td>\n",
       "      <td>2023-05-28</td>\n",
       "      <td>Alice</td>\n",
       "      <td>North</td>\n",
       "      <td>8086.27</td>\n",
       "      <td>6</td>\n",
       "      <td>Furniture</td>\n",
       "      <td>3763.26</td>\n",
       "      <td>4102.72</td>\n",
       "      <td>New</td>\n",
       "      <td>0.11</td>\n",
       "      <td>Credit Card</td>\n",
       "      <td>Retail</td>\n",
       "      <td>North-Alice</td>\n",
       "    </tr>\n",
       "    <tr>\n",
       "      <th>414</th>\n",
       "      <td>1050</td>\n",
       "      <td>2023-02-11</td>\n",
       "      <td>Charlie</td>\n",
       "      <td>West</td>\n",
       "      <td>1011.46</td>\n",
       "      <td>48</td>\n",
       "      <td>Furniture</td>\n",
       "      <td>710.06</td>\n",
       "      <td>851.35</td>\n",
       "      <td>Returning</td>\n",
       "      <td>0.04</td>\n",
       "      <td>Bank Transfer</td>\n",
       "      <td>Online</td>\n",
       "      <td>West-Charlie</td>\n",
       "    </tr>\n",
       "    <tr>\n",
       "      <th>548</th>\n",
       "      <td>1050</td>\n",
       "      <td>2023-06-01</td>\n",
       "      <td>Bob</td>\n",
       "      <td>South</td>\n",
       "      <td>5105.78</td>\n",
       "      <td>23</td>\n",
       "      <td>Furniture</td>\n",
       "      <td>3756.06</td>\n",
       "      <td>4255.73</td>\n",
       "      <td>Returning</td>\n",
       "      <td>0.04</td>\n",
       "      <td>Cash</td>\n",
       "      <td>Online</td>\n",
       "      <td>South-Bob</td>\n",
       "    </tr>\n",
       "    <tr>\n",
       "      <th>667</th>\n",
       "      <td>1050</td>\n",
       "      <td>2023-05-17</td>\n",
       "      <td>Bob</td>\n",
       "      <td>North</td>\n",
       "      <td>2254.91</td>\n",
       "      <td>45</td>\n",
       "      <td>Furniture</td>\n",
       "      <td>112.35</td>\n",
       "      <td>586.18</td>\n",
       "      <td>Returning</td>\n",
       "      <td>0.28</td>\n",
       "      <td>Credit Card</td>\n",
       "      <td>Retail</td>\n",
       "      <td>North-Bob</td>\n",
       "    </tr>\n",
       "    <tr>\n",
       "      <th>760</th>\n",
       "      <td>1050</td>\n",
       "      <td>2023-08-21</td>\n",
       "      <td>David</td>\n",
       "      <td>North</td>\n",
       "      <td>9976.52</td>\n",
       "      <td>17</td>\n",
       "      <td>Furniture</td>\n",
       "      <td>2346.80</td>\n",
       "      <td>2654.65</td>\n",
       "      <td>New</td>\n",
       "      <td>0.13</td>\n",
       "      <td>Cash</td>\n",
       "      <td>Retail</td>\n",
       "      <td>North-David</td>\n",
       "    </tr>\n",
       "    <tr>\n",
       "      <th>844</th>\n",
       "      <td>1050</td>\n",
       "      <td>2023-07-18</td>\n",
       "      <td>Eve</td>\n",
       "      <td>South</td>\n",
       "      <td>6107.78</td>\n",
       "      <td>43</td>\n",
       "      <td>Furniture</td>\n",
       "      <td>4834.47</td>\n",
       "      <td>4973.38</td>\n",
       "      <td>Returning</td>\n",
       "      <td>0.03</td>\n",
       "      <td>Bank Transfer</td>\n",
       "      <td>Online</td>\n",
       "      <td>South-Eve</td>\n",
       "    </tr>\n",
       "    <tr>\n",
       "      <th>865</th>\n",
       "      <td>1050</td>\n",
       "      <td>2023-03-05</td>\n",
       "      <td>Bob</td>\n",
       "      <td>North</td>\n",
       "      <td>9755.90</td>\n",
       "      <td>20</td>\n",
       "      <td>Electronics</td>\n",
       "      <td>3318.92</td>\n",
       "      <td>3785.91</td>\n",
       "      <td>New</td>\n",
       "      <td>0.24</td>\n",
       "      <td>Bank Transfer</td>\n",
       "      <td>Online</td>\n",
       "      <td>North-Bob</td>\n",
       "    </tr>\n",
       "    <tr>\n",
       "      <th>917</th>\n",
       "      <td>1050</td>\n",
       "      <td>2023-11-13</td>\n",
       "      <td>Alice</td>\n",
       "      <td>North</td>\n",
       "      <td>4638.47</td>\n",
       "      <td>28</td>\n",
       "      <td>Food</td>\n",
       "      <td>1711.63</td>\n",
       "      <td>1951.24</td>\n",
       "      <td>New</td>\n",
       "      <td>0.22</td>\n",
       "      <td>Cash</td>\n",
       "      <td>Online</td>\n",
       "      <td>North-Alice</td>\n",
       "    </tr>\n",
       "  </tbody>\n",
       "</table>\n",
       "</div>"
      ],
      "text/plain": [
       "     Product_ID  Sale_Date Sales_Rep Region  Sales_Amount  Quantity_Sold  \\\n",
       "70         1050 2023-05-19   Charlie   East       9744.52             35   \n",
       "279        1050 2023-05-28     Alice  North       8086.27              6   \n",
       "414        1050 2023-02-11   Charlie   West       1011.46             48   \n",
       "548        1050 2023-06-01       Bob  South       5105.78             23   \n",
       "667        1050 2023-05-17       Bob  North       2254.91             45   \n",
       "760        1050 2023-08-21     David  North       9976.52             17   \n",
       "844        1050 2023-07-18       Eve  South       6107.78             43   \n",
       "865        1050 2023-03-05       Bob  North       9755.90             20   \n",
       "917        1050 2023-11-13     Alice  North       4638.47             28   \n",
       "\n",
       "    Product_Category  Unit_Cost  Unit_Price Customer_Type  Discount  \\\n",
       "70          Clothing    2158.69     2384.38     Returning      0.09   \n",
       "279        Furniture    3763.26     4102.72           New      0.11   \n",
       "414        Furniture     710.06      851.35     Returning      0.04   \n",
       "548        Furniture    3756.06     4255.73     Returning      0.04   \n",
       "667        Furniture     112.35      586.18     Returning      0.28   \n",
       "760        Furniture    2346.80     2654.65           New      0.13   \n",
       "844        Furniture    4834.47     4973.38     Returning      0.03   \n",
       "865      Electronics    3318.92     3785.91           New      0.24   \n",
       "917             Food    1711.63     1951.24           New      0.22   \n",
       "\n",
       "    Payment_Method Sales_Channel Region_and_Sales_Rep  \n",
       "70   Bank Transfer        Retail         East-Charlie  \n",
       "279    Credit Card        Retail          North-Alice  \n",
       "414  Bank Transfer        Online         West-Charlie  \n",
       "548           Cash        Online            South-Bob  \n",
       "667    Credit Card        Retail            North-Bob  \n",
       "760           Cash        Retail          North-David  \n",
       "844  Bank Transfer        Online            South-Eve  \n",
       "865  Bank Transfer        Online            North-Bob  \n",
       "917           Cash        Online          North-Alice  "
      ]
     },
     "execution_count": 134,
     "metadata": {},
     "output_type": "execute_result"
    }
   ],
   "source": [
    "df3 = df[df['Product_ID'] == 1050]\n",
    "df3"
   ]
  },
  {
   "cell_type": "markdown",
   "metadata": {},
   "source": [
    "## Data quality insights at first glance"
   ]
  },
  {
   "cell_type": "markdown",
   "metadata": {},
   "source": [
    "\n",
    "- The dataset consists of 1000 rows\n",
    "\n",
    "- The data requires no cleaning - there are no missing values or duplicates\n",
    "\n",
    "- Product_ID values are not unique (100 unique values total across 1000 rows), nor are they unique per Product_Category"
   ]
  }
 ],
 "metadata": {
  "kernelspec": {
   "display_name": "Python 3 (ipykernel)",
   "language": "python",
   "name": "python3"
  },
  "language_info": {
   "codemirror_mode": {
    "name": "ipython",
    "version": 3
   },
   "file_extension": ".py",
   "mimetype": "text/x-python",
   "name": "python",
   "nbconvert_exporter": "python",
   "pygments_lexer": "ipython3",
   "version": "3.12.3"
  }
 },
 "nbformat": 4,
 "nbformat_minor": 2
}
